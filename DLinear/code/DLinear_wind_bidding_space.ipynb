{
 "cells": [
  {
   "cell_type": "markdown",
   "metadata": {},
   "source": [
    "# 前期准备"
   ]
  },
  {
   "cell_type": "markdown",
   "metadata": {},
   "source": [
    "导入所需库"
   ]
  },
  {
   "cell_type": "code",
   "execution_count": 1,
   "metadata": {},
   "outputs": [],
   "source": [
    "import pandas as pd\n",
    "import numpy as np\n",
    "import torch\n",
    "import torch.nn as nn\n",
    "from torch.utils.data import Dataset, DataLoader\n",
    "import matplotlib.pyplot as plt\n",
    "import matplotlib\n",
    "import chinese_calendar as cc\n",
    "from sklearn.preprocessing import MinMaxScaler, StandardScaler, RobustScaler\n",
    "import pickle"
   ]
  },
  {
   "cell_type": "markdown",
   "metadata": {},
   "source": [
    "设置字体"
   ]
  },
  {
   "cell_type": "code",
   "execution_count": 2,
   "metadata": {},
   "outputs": [],
   "source": [
    "matplotlib.rcParams[\"font.sans-serif\"] = [\"Liberation Sans\"]"
   ]
  },
  {
   "cell_type": "markdown",
   "metadata": {},
   "source": [
    "# 数据预处理"
   ]
  },
  {
   "cell_type": "markdown",
   "metadata": {},
   "source": [
    "读取并合并市场披露数据（包括对齐24个点和96个点的数据）"
   ]
  },
  {
   "cell_type": "code",
   "execution_count": 3,
   "metadata": {},
   "outputs": [
    {
     "name": "stdout",
     "output_type": "stream",
     "text": [
      "                     全网统一出清电价  呼包东统一出清电价  呼包西统一出清电价  日前预出清电能价格     东送计划预测  \\\n",
      "datetime                                                                    \n",
      "2024-01-02 00:00:00    328.09     264.64     381.57     372.27  2100.0000   \n",
      "2024-01-02 01:00:00    364.71     347.72     378.77     274.10  2100.0000   \n",
      "2024-01-02 02:00:00    386.24     384.98     387.28     221.28  2099.9975   \n",
      "\n",
      "                        东送计划实测    非市场出力计划  非市场出力计划实测    统调负荷预测     统调负荷实测  \\\n",
      "datetime                                                                    \n",
      "2024-01-02 00:00:00  2140.2275  6625.5225  6770.1775  41067.35  40525.650   \n",
      "2024-01-02 01:00:00  2116.7025  6589.3075  6634.9475  39946.65  40046.850   \n",
      "2024-01-02 02:00:00  2107.8150  6614.6975  6606.2650  39880.25  40029.675   \n",
      "\n",
      "                       新能源出力预测     新能源出力实测     风电出力预测     风电出力实测  光伏出力预测  \\\n",
      "datetime                                                                   \n",
      "2024-01-02 00:00:00  14503.555  14502.4325  14457.025  14525.800  46.530   \n",
      "2024-01-02 01:00:00  15205.300  14219.4650  15141.550  14243.575  63.750   \n",
      "2024-01-02 02:00:00  15584.530  13947.3600  15513.425  13971.750  71.105   \n",
      "\n",
      "                      光伏出力实测  \n",
      "datetime                      \n",
      "2024-01-02 00:00:00 -23.3675  \n",
      "2024-01-02 01:00:00 -24.1100  \n",
      "2024-01-02 02:00:00 -24.3900  \n"
     ]
    }
   ],
   "source": [
    "data_path = \"../data/\"\n",
    "data_path_2024 = data_path + \"2024/\"\n",
    "data_path_2025 = data_path + \"2025/\"\n",
    "\n",
    "elec_price_df_2024 = pd.read_csv(data_path_2024 + \"内蒙2024电价数据_24点_cleaned.csv\", sep=\"\\t\")\n",
    "elec_out_price_df_2024 = pd.read_csv(data_path_2024 + \"内蒙2024东送计划_96点_cleaned.csv\", sep=\"\\t\")\n",
    "non_martket_elec_gen_df_2024 = pd.read_csv(data_path_2024 + \"内蒙2024非市场化出力_96点_cleaned.csv\", sep=\"\\t\")\n",
    "ele_load_df_2024 = pd.read_csv(data_path_2024 + \"内蒙2024负荷数据_96点_cleaned.csv\", sep=\"\\t\")\n",
    "new_energy_elec_gen_df_2024 = pd.read_csv(data_path_2024 + \"内蒙2024新能源出力数据_96点_cleaned.csv\", sep=\"\\t\")\n",
    "\n",
    "df_15_features = [elec_out_price_df_2024, non_martket_elec_gen_df_2024, ele_load_df_2024, new_energy_elec_gen_df_2024]\n",
    "\n",
    "for i in range(len(df_15_features)):\n",
    "    df = df_15_features[i]\n",
    "    df = df.sort_values('datetime')\n",
    "    df['datetime'] = pd.to_datetime(df['datetime'])\n",
    "    df.set_index('datetime', inplace=True)\n",
    "    df = df.resample('H', closed='right', label='right').mean()\n",
    "    df_15_features[i] = df\n",
    "\n",
    "elec_price_df_2024['datetime'] = pd.to_datetime(elec_price_df_2024['datetime'])\n",
    "elec_price_df_2024.set_index('datetime', inplace=True)\n",
    "\n",
    "merged_df = pd.concat([elec_price_df_2024] + df_15_features, axis=1)\n",
    "print(merged_df.loc['2024-01-02'][0:3])"
   ]
  },
  {
   "cell_type": "markdown",
   "metadata": {},
   "source": [
    "预处理天气数据"
   ]
  },
  {
   "cell_type": "code",
   "execution_count": 4,
   "metadata": {},
   "outputs": [
    {
     "name": "stdout",
     "output_type": "stream",
     "text": [
      "                     t2m_1501  ws10m_1501  ssrd_1501  tp_1501  rh_1501  \\\n",
      "datetime                                                                 \n",
      "2024-01-02 00:00:00   -9.3586      0.8648        0.0      0.0   0.7457   \n",
      "2024-01-02 01:00:00  -10.2181      0.7868        0.0      0.0   0.7487   \n",
      "2024-01-02 02:00:00  -10.1093      0.8430        0.0      0.0   0.7481   \n",
      "\n",
      "                     t2m_1502  ws10m_1502  ssrd_1502  tp_1502  rh_1502  \n",
      "datetime                                                                \n",
      "2024-01-02 00:00:00  -12.7961      2.0977        0.0      0.0   0.7343  \n",
      "2024-01-02 01:00:00  -14.1596      2.5779        0.0      0.0   0.7424  \n",
      "2024-01-02 02:00:00  -14.6581      2.8571        0.0      0.0   0.7470  \n"
     ]
    }
   ],
   "source": [
    "weather_data_2024_all = pd.read_csv(data_path_2024 + '内蒙2024天气.csv', sep=',')\n",
    "\n",
    "''' 天气参数\n",
    "id: 数据id\n",
    "region_code: 行政区号\n",
    "region_name: 行政区名\n",
    "t2m: 2米温度\n",
    "ws10m: 10米风速\n",
    "ssrd: 向下表面太阳辐射（辐照）\n",
    "tp: 总降水量(precipitation)\n",
    "rh: 相对湿度\n",
    "datetime: 时间戳\n",
    "lng: 经度\n",
    "lat: 纬度\n",
    "'''\n",
    "# 设置列名\n",
    "weather_data_2024_all.columns = ['id', 'region_code', 'region_name', 't2m', 'ws10m', 'ssrd', 'tp', 'rh', 'datetime', 'lng', 'lat']\n",
    "weather_data_2024 = weather_data_2024_all.drop(columns=['id', 'lng', 'lat', 'region_name'])\n",
    "weather_data_2024['datetime'] = pd.to_datetime(weather_data_2024['datetime'], dayfirst=True)\n",
    "weather_data_2024.set_index('datetime', inplace=True)\n",
    "weather_data_2024_filtered = weather_data_2024[weather_data_2024['region_code'].isin([1501, 1502])]\n",
    "\n",
    "weather_1501 = weather_data_2024_filtered[weather_data_2024_filtered['region_code'] == 1501].copy()\n",
    "weather_1502 = weather_data_2024_filtered[weather_data_2024_filtered['region_code'] == 1502].copy()\n",
    "weather_1501.drop(columns=['region_code'], inplace=True)\n",
    "weather_1502.drop(columns=['region_code'], inplace=True)\n",
    "weather_1501.rename(columns={\n",
    "    't2m': 't2m_1501',\n",
    "    'ws10m': 'ws10m_1501',\n",
    "    'ssrd': 'ssrd_1501',\n",
    "    'tp': 'tp_1501',\n",
    "    'rh': 'rh_1501'\n",
    "}, inplace=True)\n",
    "weather_1502.rename(columns={\n",
    "    't2m': 't2m_1502',\n",
    "    'ws10m': 'ws10m_1502',\n",
    "    'ssrd': 'ssrd_1502',\n",
    "    'tp': 'tp_1502',\n",
    "    'rh': 'rh_1502'\n",
    "}, inplace=True)\n",
    "\n",
    "weather_1501 = weather_1501[~weather_1501.index.duplicated(keep='first')]\n",
    "weather_1502 = weather_1502[~weather_1502.index.duplicated(keep='first')]\n",
    "\n",
    "merged_weather_2024 = pd.merge(weather_1501, weather_1502, left_index=True, right_index=True, how='outer')\n",
    "\n",
    "print(merged_weather_2024.loc['2024-01-02'][0:3])"
   ]
  },
  {
   "cell_type": "markdown",
   "metadata": {},
   "source": [
    "合并数据+丢弃预测数据"
   ]
  },
  {
   "cell_type": "code",
   "execution_count": 5,
   "metadata": {},
   "outputs": [
    {
     "name": "stdout",
     "output_type": "stream",
     "text": [
      "                     全网统一出清电价  呼包东统一出清电价  呼包西统一出清电价     东送计划实测  非市场出力计划实测  \\\n",
      "datetime                                                                    \n",
      "2024-01-02 00:00:00    328.09     264.64     381.57  2140.2275  6770.1775   \n",
      "2024-01-02 01:00:00    364.71     347.72     378.77  2116.7025  6634.9475   \n",
      "2024-01-02 02:00:00    386.24     384.98     387.28  2107.8150  6606.2650   \n",
      "\n",
      "                        统调负荷实测     新能源出力实测     风电出力实测   光伏出力实测  t2m_1501  \\\n",
      "datetime                                                                   \n",
      "2024-01-02 00:00:00  40525.650  14502.4325  14525.800 -23.3675   -9.3586   \n",
      "2024-01-02 01:00:00  40046.850  14219.4650  14243.575 -24.1100  -10.2181   \n",
      "2024-01-02 02:00:00  40029.675  13947.3600  13971.750 -24.3900  -10.1093   \n",
      "\n",
      "                     ws10m_1501  ssrd_1501  tp_1501  rh_1501  t2m_1502  \\\n",
      "datetime                                                                 \n",
      "2024-01-02 00:00:00      0.8648        0.0      0.0   0.7457  -12.7961   \n",
      "2024-01-02 01:00:00      0.7868        0.0      0.0   0.7487  -14.1596   \n",
      "2024-01-02 02:00:00      0.8430        0.0      0.0   0.7481  -14.6581   \n",
      "\n",
      "                     ws10m_1502  ssrd_1502  tp_1502  rh_1502  \\\n",
      "datetime                                                       \n",
      "2024-01-02 00:00:00      2.0977        0.0      0.0   0.7343   \n",
      "2024-01-02 01:00:00      2.5779        0.0      0.0   0.7424   \n",
      "2024-01-02 02:00:00      2.8571        0.0      0.0   0.7470   \n",
      "\n",
      "                     price_bidding_space  \n",
      "datetime                                  \n",
      "2024-01-02 00:00:00           21393.2675  \n",
      "2024-01-02 01:00:00           21309.1400  \n",
      "2024-01-02 02:00:00           21583.8650  \n"
     ]
    }
   ],
   "source": [
    "merged_df_with_weather = merged_df.merge(merged_weather_2024, left_index=True, right_index=True, how='outer')\n",
    "merged_df_with_weather['price_bidding_space'] = merged_df_with_weather['统调负荷实测'] + merged_df_with_weather['东送计划实测'] - merged_df_with_weather['新能源出力实测'] - merged_df_with_weather['非市场出力计划实测']\n",
    "merged_df_filtered = merged_df_with_weather.drop(columns=['日前预出清电能价格', '东送计划预测', '非市场出力计划', '统调负荷预测', '新能源出力预测', '风电出力预测', '光伏出力预测'])\n",
    "\n",
    "print(merged_df_filtered.loc['2024-01-02'][0:3])"
   ]
  },
  {
   "cell_type": "markdown",
   "metadata": {},
   "source": [
    "去除NA数据"
   ]
  },
  {
   "cell_type": "code",
   "execution_count": 6,
   "metadata": {},
   "outputs": [
    {
     "name": "stdout",
     "output_type": "stream",
     "text": [
      "                     全网统一出清电价  呼包东统一出清电价  呼包西统一出清电价     东送计划实测  非市场出力计划实测  \\\n",
      "datetime                                                                    \n",
      "2024-01-01 09:00:00    430.32     426.92     433.48  3764.4200  6984.4300   \n",
      "2024-01-01 10:00:00    409.45     407.92     410.91  4175.0450  6923.6375   \n",
      "2024-01-01 11:00:00    384.81     397.11     373.26  4304.6000  6655.7350   \n",
      "2024-01-01 12:00:00    348.15     354.58     342.46  3263.3575  5861.5700   \n",
      "2024-01-01 13:00:00      8.24       0.00      15.26  2890.0625  5942.5800   \n",
      "\n",
      "                        统调负荷实测     新能源出力实测     风电出力实测     光伏出力实测  t2m_1501  \\\n",
      "datetime                                                                     \n",
      "2024-01-01 09:00:00  40678.325  13500.9825  12978.950   522.0325  -12.9174   \n",
      "2024-01-01 10:00:00  40749.050  14903.1650  12327.975  2575.1900   -8.6728   \n",
      "2024-01-01 11:00:00  40923.300  16714.9325  11530.125  5184.8075   -9.0334   \n",
      "2024-01-01 12:00:00  40969.525  18078.4975  10691.325  7387.1725   -8.9536   \n",
      "2024-01-01 13:00:00  40245.525  19080.6525  10790.525  8290.1275   -5.7709   \n",
      "\n",
      "                     ws10m_1501  ssrd_1501  tp_1501  rh_1501  t2m_1502  \\\n",
      "datetime                                                                 \n",
      "2024-01-01 09:00:00      0.7768    46.8267      0.0   0.7914  -16.2416   \n",
      "2024-01-01 10:00:00      0.9649   159.2178      0.0   0.6979  -12.2411   \n",
      "2024-01-01 11:00:00      1.7349   266.7911      0.0   0.6898  -10.6759   \n",
      "2024-01-01 12:00:00      2.7086   349.2444      0.0   0.6883  -10.1665   \n",
      "2024-01-01 13:00:00      3.3868   406.5956      0.0   0.6165   -6.4330   \n",
      "\n",
      "                     ws10m_1502  ssrd_1502  tp_1502  rh_1502  \\\n",
      "datetime                                                       \n",
      "2024-01-01 09:00:00      1.1007    33.4222      0.0   0.9046   \n",
      "2024-01-01 10:00:00      1.2219   138.2756      0.0   0.8465   \n",
      "2024-01-01 11:00:00      1.2460   277.5644      0.0   0.8570   \n",
      "2024-01-01 12:00:00      1.7432   408.5689      0.0   0.8526   \n",
      "2024-01-01 13:00:00      2.0065   463.8400      0.0   0.7707   \n",
      "\n",
      "                     price_bidding_space  \n",
      "datetime                                  \n",
      "2024-01-01 09:00:00           23957.3325  \n",
      "2024-01-01 10:00:00           23097.2925  \n",
      "2024-01-01 11:00:00           21857.2325  \n",
      "2024-01-01 12:00:00           20292.8150  \n",
      "2024-01-01 13:00:00           18112.3550  \n"
     ]
    }
   ],
   "source": [
    "merged_df_filtered = merged_df_filtered.dropna()\n",
    "\n",
    "print(merged_df_filtered.head())"
   ]
  },
  {
   "cell_type": "code",
   "execution_count": 7,
   "metadata": {},
   "outputs": [
    {
     "name": "stdout",
     "output_type": "stream",
     "text": [
      "Index(['全网统一出清电价', '呼包东统一出清电价', '呼包西统一出清电价', '东送计划实测', '非市场出力计划实测', '统调负荷实测',\n",
      "       '新能源出力实测', '风电出力实测', '光伏出力实测', 't2m_1501', 'ws10m_1501', 'ssrd_1501',\n",
      "       'tp_1501', 'rh_1501', 't2m_1502', 'ws10m_1502', 'ssrd_1502', 'tp_1502',\n",
      "       'rh_1502', 'price_bidding_space'],\n",
      "      dtype='object')\n"
     ]
    }
   ],
   "source": [
    "print(merged_df_filtered.columns)"
   ]
  },
  {
   "cell_type": "code",
   "execution_count": 8,
   "metadata": {},
   "outputs": [
    {
     "name": "stdout",
     "output_type": "stream",
     "text": [
      "Index(['呼包东统一出清电价', '呼包西统一出清电价', '风电出力实测', 'ws10m_1501', 'ws10m_1502',\n",
      "       'price_bidding_space'],\n",
      "      dtype='object')\n"
     ]
    }
   ],
   "source": [
    "# 只保留竞价空间和风相关的特征\n",
    "tmp_df = merged_df_filtered.copy()\n",
    "\n",
    "tmp_df.drop(\n",
    "    columns=\n",
    "    ['全网统一出清电价', '东送计划实测', '非市场出力计划实测', '统调负荷实测', \n",
    "     '新能源出力实测', '光伏出力实测', 't2m_1501', 'ssrd_1501', 'tp_1501', 'rh_1501', \n",
    "     't2m_1502', 'ssrd_1502', 'tp_1502', 'rh_1502'],\n",
    "     inplace=True\n",
    "     )\n",
    "\n",
    "merged_df_filtered = tmp_df.copy()\n",
    "\n",
    "print(merged_df_filtered.columns)"
   ]
  },
  {
   "cell_type": "markdown",
   "metadata": {},
   "source": [
    "检查并处理缺失数据"
   ]
  },
  {
   "cell_type": "code",
   "execution_count": 9,
   "metadata": {},
   "outputs": [
    {
     "name": "stdout",
     "output_type": "stream",
     "text": [
      "Initial missing timestamps: 0\n",
      "No need to deal missing data.\n"
     ]
    }
   ],
   "source": [
    "def deal_missing_data(df_data):\n",
    "    complete_time_range = pd.date_range(\n",
    "        start=merged_df_filtered.index.min(),\n",
    "        end=merged_df_filtered.index.max(),\n",
    "        freq='h'\n",
    "    )\n",
    "    initial_missing = complete_time_range.difference(merged_df_filtered.index)\n",
    "    print(f\"Initial missing timestamps: {len(initial_missing)}\")\n",
    "    if len(initial_missing) == 0:\n",
    "        print(\"No need to deal missing data.\")\n",
    "        return df_data\n",
    "\n",
    "    print(\"Dealing with missing data.\")\n",
    "    print(\"Initial missing dates:\", pd.Series(initial_missing.date).value_counts())\n",
    "\n",
    "    df_reindexed = df_data.reindex(complete_time_range)\n",
    "    df_reindexed['date'] = df_reindexed.index.date\n",
    "    missing_flag = df_reindexed.drop(columns='date').isna().any(axis=1)\n",
    "    missing_count_per_day = missing_flag.groupby(df_reindexed['date']).sum()\n",
    "    print(\"Missing timestamps per day:\")\n",
    "    print(missing_count_per_day)\n",
    "\n",
    "    threshold = 8\n",
    "    days_to_drop = missing_count_per_day[missing_count_per_day > threshold].index\n",
    "    print(f\"\\nDays to drop: {len(days_to_drop)}\")\n",
    "\n",
    "    df_cleaned = df_reindexed[~df_reindexed['date'].isin(days_to_drop)].copy()\n",
    "    df_cleaned.drop(columns='date', inplace=True)\n",
    "    \n",
    "    df_filled = df_cleaned.interpolate(method='time')\n",
    "\n",
    "    expected_range = pd.date_range(\n",
    "        start=df_filled.index.min(),\n",
    "        end=df_filled.index.max(),\n",
    "        freq='h'\n",
    "    )\n",
    "    missing_timestamps = expected_range.difference(df_filled.index)\n",
    "    print(f\"Total missing timestamps: {len(missing_timestamps)}\")\n",
    "    print(\"\\nMissing timestamps by date:\")\n",
    "    missing_dates = pd.Series(missing_timestamps.date).value_counts().sort_index()\n",
    "    print(missing_dates)\n",
    "    \n",
    "    return df_filled\n",
    "\n",
    "df_cleaned = deal_missing_data(merged_df_filtered)"
   ]
  },
  {
   "cell_type": "markdown",
   "metadata": {},
   "source": [
    "归一化之前导出到csv保存"
   ]
  },
  {
   "cell_type": "code",
   "execution_count": 10,
   "metadata": {},
   "outputs": [
    {
     "name": "stdout",
     "output_type": "stream",
     "text": [
      "Index(['east_price', 'west_price', 'wind_power_output_load', 'ws10m_1501',\n",
      "       'ws10m_1502', 'price_bidding_space'],\n",
      "      dtype='object')\n"
     ]
    }
   ],
   "source": [
    "df_cleaned.rename(columns={\n",
    "    '全网统一出清电价': 'unified_price', \n",
    "    '呼包东统一出清电价': 'east_price',\n",
    "    '呼包西统一出清电价': 'west_price',\n",
    "    '东送计划实测': 'east_trans_load', \n",
    "    '非市场出力计划实测': 'non_market_output_load',\n",
    "    '统调负荷实测': 'unified_dispatch_load',\n",
    "    '新能源出力实测': 'new_energy_output_load',\n",
    "    '风电出力实测': 'wind_power_output_load',\n",
    "    '光伏出力实测': 'solar_power_output_load'\n",
    "}, inplace=True)\n",
    "print(df_cleaned.columns)\n",
    "df_cleaned.to_csv(\"../output/df_cleaned.csv\", index=True, encoding=\"utf-8-sig\")"
   ]
  },
  {
   "cell_type": "markdown",
   "metadata": {},
   "source": [
    "归一化"
   ]
  },
  {
   "cell_type": "code",
   "execution_count": 11,
   "metadata": {},
   "outputs": [
    {
     "name": "stdout",
     "output_type": "stream",
     "text": [
      "Before normalized:\n",
      "                     east_price  west_price  wind_power_output_load  \\\n",
      "datetime                                                              \n",
      "2024-01-01 09:00:00      426.92      433.48                12978.95   \n",
      "\n",
      "                     ws10m_1501  ws10m_1502  price_bidding_space  \n",
      "datetime                                                          \n",
      "2024-01-01 09:00:00      0.7768      1.1007           23957.3325  \n",
      "After normalized:\n",
      "                     east_price  west_price  wind_power_output_load  \\\n",
      "datetime                                                              \n",
      "2024-01-01 09:00:00    0.049214    0.066319                0.572148   \n",
      "\n",
      "                     ws10m_1501  ws10m_1502  price_bidding_space  \n",
      "datetime                                                          \n",
      "2024-01-01 09:00:00   -1.106501   -1.036313            -0.147698  \n"
     ]
    }
   ],
   "source": [
    "print(\"Before normalized:\")\n",
    "print(df_cleaned.head(1))\n",
    "\n",
    "columns_to_scale = [col for col in df_cleaned.columns if col not in ['weekday_num', 'is_workday', 'is_holiday', 'season']]\n",
    "normalized_df = df_cleaned.copy()\n",
    "\n",
    "scalers = {}\n",
    "\n",
    "for col in columns_to_scale:\n",
    "    if 'price' in col:\n",
    "        scaler = RobustScaler()\n",
    "    elif 'load' in col:\n",
    "        scaler = MinMaxScaler()\n",
    "    else:\n",
    "        scaler = StandardScaler()\n",
    "\n",
    "    normalized_df[col] = scaler.fit_transform(normalized_df[[col]])\n",
    "    scalers[col] = scaler\n",
    "\n",
    "with open('../scaler_model/scalers.pkl', 'wb') as f:\n",
    "    pickle.dump(scalers, f)\n",
    "\n",
    "print(\"After normalized:\")\n",
    "print(normalized_df.head(1))\n",
    "\n",
    "normalized_df.to_csv(\"../output/normalized_df.csv\", index=True, encoding=\"utf-8-sig\")"
   ]
  },
  {
   "cell_type": "markdown",
   "metadata": {},
   "source": [
    "# 训练模型"
   ]
  },
  {
   "cell_type": "markdown",
   "metadata": {},
   "source": [
    "环境设置"
   ]
  },
  {
   "cell_type": "code",
   "execution_count": 12,
   "metadata": {},
   "outputs": [],
   "source": [
    "device = torch.device('cuda' if torch.cuda.is_available() else 'cpu')"
   ]
  },
  {
   "cell_type": "markdown",
   "metadata": {},
   "source": [
    "搭建模型"
   ]
  },
  {
   "cell_type": "code",
   "execution_count": 13,
   "metadata": {},
   "outputs": [
    {
     "name": "stdout",
     "output_type": "stream",
     "text": [
      "total_length: 8776, num_features: 6, min_length: 72\n",
      "\n",
      "数据集信息:\n",
      "样本总数: 8705\n",
      "输入形状: (48, 6) (时间步, 特征数)\n",
      "输出形状: (24, 2) (预测步数, 目标特征数)\n",
      "\n",
      "DLinear 模型结构：\n",
      "DLinear(\n",
      "  (linear_layers): ModuleList(\n",
      "    (0-5): 6 x Linear(in_features=48, out_features=24, bias=True)\n",
      "  )\n",
      ")\n"
     ]
    }
   ],
   "source": [
    "def create_sliding_windows(data, input_length, output_length, target_indices):\n",
    "    \"\"\"\n",
    "    构造滑动窗口数据\n",
    "    :param data: numpy 数组，形状 (T, num_features)\n",
    "    :param input_length: 输入序列长度（例如24个点代表1天）\n",
    "    :param output_length: 输出序列长度（预测下一天的24个点）\n",
    "    :param target_indices: 目标特征在数据中的索引列表\n",
    "    :return: X, Y，分别为输入和目标序列\n",
    "    \"\"\"\n",
    "    # 参数验证\n",
    "    if not isinstance(data, np.ndarray):\n",
    "        data = np.array(data, dtype=np.float32)\n",
    "    \n",
    "    if len(data.shape) != 2:\n",
    "        raise ValueError(f\"数据维度必须为2，当前维度为 {len(data.shape)}\")\n",
    "        \n",
    "    total_length, num_features = data.shape\n",
    "    min_length = input_length + output_length\n",
    "    print(f'total_length: {total_length}, num_features: {num_features}, min_length: {min_length}')\n",
    "    \n",
    "    if total_length < min_length:\n",
    "        raise ValueError(f\"数据长度({total_length})小于所需最小长度({min_length})\")\n",
    "        \n",
    "    if max(target_indices) >= num_features:\n",
    "        raise ValueError(f\"目标特征索引超出范围: {target_indices}, 特征数量: {num_features}\")\n",
    "\n",
    "    try:\n",
    "        # 预分配内存\n",
    "        samples_count = total_length - input_length - output_length + 1\n",
    "        X = np.zeros((samples_count, input_length, num_features), dtype=np.float32)\n",
    "        Y = np.zeros((samples_count, output_length, len(target_indices)), dtype=np.float32)\n",
    "        \n",
    "        # 构建滑动窗口\n",
    "        for i in range(samples_count):\n",
    "            X[i] = data[i:i + input_length]\n",
    "            Y[i] = data[i + input_length:i + input_length + output_length][:, target_indices]\n",
    "            \n",
    "        return X, Y\n",
    "        \n",
    "    except Exception as e:\n",
    "        print(f\"创建滑动窗口时发生错误: {str(e)}\")\n",
    "        raise\n",
    "\n",
    "# 检查输入数据\n",
    "if not isinstance(normalized_df, (np.ndarray, pd.DataFrame)):\n",
    "    raise TypeError(\"normalized_df 必须是 numpy 数组或 pandas DataFrame\")\n",
    "\n",
    "# 数据预处理\n",
    "data_array = normalized_df.astype(np.float32)\n",
    "target_columns = ['east_price', 'west_price']\n",
    "\n",
    "# 获取目标特征的索引\n",
    "features = normalized_df.columns.tolist()\n",
    "target_indices = [features.index(col) for col in target_columns]\n",
    "\n",
    "# 参数设置\n",
    "input_length = 48    # 输入序列长度\n",
    "output_length = 24   # 输出序列长度\n",
    "# 构造滑动窗口数据\n",
    "X, Y = create_sliding_windows(data_array, input_length, output_length, target_indices)\n",
    "print(f\"\\n数据集信息:\")\n",
    "print(f\"样本总数: {X.shape[0]}\")\n",
    "print(f\"输入形状: {X.shape[1:]} (时间步, 特征数)\")\n",
    "print(f\"输出形状: {Y.shape[1:]} (预测步数, 目标特征数)\")\n",
    "\n",
    "# 构造 PyTorch Dataset 和 DataLoader\n",
    "class TimeSeriesDataset(Dataset):\n",
    "    def __init__(self, X, Y):\n",
    "        \"\"\"\n",
    "        :param X: numpy 数组，形状 (num_samples, input_length, num_features)\n",
    "        :param Y: numpy 数组，形状 (num_samples, output_length, num_target_features)\n",
    "        \"\"\"\n",
    "        self.X = torch.tensor(X, dtype=torch.float32)\n",
    "        self.Y = torch.tensor(Y, dtype=torch.float32)\n",
    "        \n",
    "    def __len__(self):\n",
    "        return self.X.shape[0]\n",
    "    \n",
    "    def __getitem__(self, idx):\n",
    "        return self.X[idx], self.Y[idx]\n",
    "\n",
    "# 划分训练集和验证集\n",
    "split_idx = int(0.8 * len(X))\n",
    "X_train, Y_train = X[:split_idx], Y[:split_idx]\n",
    "X_val, Y_val = X[split_idx:], Y[split_idx:]\n",
    "\n",
    "train_dataset = TimeSeriesDataset(X_train, Y_train)\n",
    "val_dataset = TimeSeriesDataset(X_val, Y_val)\n",
    "\n",
    "batch_size = 64\n",
    "train_loader = DataLoader(train_dataset, batch_size=batch_size, shuffle=True)\n",
    "val_loader   = DataLoader(val_dataset, batch_size=batch_size, shuffle=False)\n",
    "\n",
    "# 构建 DLinear 模型\n",
    "class DLinear(nn.Module):\n",
    "    def __init__(self, input_length, output_length, num_features, target_feature_num, target_indices):\n",
    "        \"\"\"\n",
    "        :param input_length: 输入序列的时间步数\n",
    "        :param output_length: 输出序列的时间步数\n",
    "        :param num_features: 输入特征数量\n",
    "        :param target_feature_num: 目标特征数量（目前是2个区域的电价）\n",
    "        :param target_indices: 目标特征在所有特征中的索引列表\n",
    "        \"\"\"\n",
    "        super(DLinear, self).__init__()\n",
    "        # 为每个输入特征创建一个独立的线性层\n",
    "        self.linear_layers = nn.ModuleList([\n",
    "            nn.Linear(input_length, output_length) for _ in range(num_features)\n",
    "        ])\n",
    "        self.num_features = num_features\n",
    "        self.target_feature_num = target_feature_num\n",
    "        self.target_indices = target_indices\n",
    "        \n",
    "    def forward(self, x):\n",
    "        \"\"\"\n",
    "        :param x: 输入张量，形状 (batch_size, input_length, num_features)\n",
    "        :return: 预测结果，形状 (batch_size, output_length, target_feature_num)\n",
    "        \"\"\"\n",
    "        out_list = []\n",
    "        # 对每个特征独立进行预测\n",
    "        for i, layer in enumerate(self.linear_layers):\n",
    "            # 取出第 i 个特征，形状：(batch_size, input_length)\n",
    "            xi = x[:, :, i]\n",
    "            # 线性预测得到：(batch_size, output_length)\n",
    "            yi = layer(xi)\n",
    "            out_list.append(yi.unsqueeze(-1))  # 变为 (batch_size, output_length, 1)\n",
    "        # 拼接所有特征的预测结果，形状：(batch_size, output_length, num_features)\n",
    "        out = torch.cat(out_list, dim=-1)\n",
    "        prediction = out[:, :, self.target_indices]\n",
    "        return prediction\n",
    "\n",
    "# 模型参数\n",
    "num_features = len(features)           # 输入所有特征的数量\n",
    "target_feature_num = len(target_columns) # 预测目标的数量（2个区域）\n",
    "\n",
    "model = DLinear(input_length=input_length, \n",
    "                output_length=output_length, \n",
    "                num_features=num_features, \n",
    "                target_feature_num=target_feature_num,\n",
    "                target_indices=target_indices)\n",
    "\n",
    "print(\"\\nDLinear 模型结构：\")\n",
    "print(model)"
   ]
  },
  {
   "cell_type": "markdown",
   "metadata": {},
   "source": [
    "训练模型"
   ]
  },
  {
   "cell_type": "code",
   "execution_count": 14,
   "metadata": {},
   "outputs": [
    {
     "name": "stdout",
     "output_type": "stream",
     "text": [
      "Epoch 1/100 - Train Loss: 2.063168 - Val Loss: 1.013494\n",
      "Epoch 2/100 - Train Loss: 1.451151 - Val Loss: 0.889356\n",
      "Epoch 3/100 - Train Loss: 1.286414 - Val Loss: 0.830383\n",
      "Epoch 4/100 - Train Loss: 1.205483 - Val Loss: 0.800218\n",
      "Epoch 5/100 - Train Loss: 1.162983 - Val Loss: 0.784327\n",
      "Epoch 6/100 - Train Loss: 1.137699 - Val Loss: 0.771927\n",
      "Epoch 7/100 - Train Loss: 1.120481 - Val Loss: 0.764275\n",
      "Epoch 8/100 - Train Loss: 1.110585 - Val Loss: 0.764765\n",
      "Epoch 9/100 - Train Loss: 1.101078 - Val Loss: 0.756559\n",
      "Epoch 10/100 - Train Loss: 1.093815 - Val Loss: 0.755772\n",
      "Epoch 11/100 - Train Loss: 1.087772 - Val Loss: 0.748356\n",
      "Epoch 12/100 - Train Loss: 1.082960 - Val Loss: 0.748435\n",
      "Epoch 13/100 - Train Loss: 1.078579 - Val Loss: 0.746737\n",
      "Epoch 14/100 - Train Loss: 1.075775 - Val Loss: 0.746670\n",
      "Epoch 15/100 - Train Loss: 1.071834 - Val Loss: 0.744402\n",
      "Epoch 16/100 - Train Loss: 1.069875 - Val Loss: 0.739509\n",
      "Epoch 17/100 - Train Loss: 1.068003 - Val Loss: 0.742743\n",
      "Epoch 18/100 - Train Loss: 1.064444 - Val Loss: 0.734910\n",
      "Epoch 19/100 - Train Loss: 1.062933 - Val Loss: 0.737787\n",
      "Epoch 20/100 - Train Loss: 1.060398 - Val Loss: 0.730477\n",
      "Epoch 21/100 - Train Loss: 1.059512 - Val Loss: 0.732220\n",
      "Epoch 22/100 - Train Loss: 1.058230 - Val Loss: 0.733992\n",
      "Epoch 23/100 - Train Loss: 1.057112 - Val Loss: 0.730530\n",
      "Epoch 24/100 - Train Loss: 1.055309 - Val Loss: 0.729742\n",
      "Epoch 25/100 - Train Loss: 1.054913 - Val Loss: 0.734271\n",
      "Epoch 26/100 - Train Loss: 1.052872 - Val Loss: 0.729757\n",
      "Epoch 27/100 - Train Loss: 1.053193 - Val Loss: 0.727958\n",
      "Epoch 28/100 - Train Loss: 1.052687 - Val Loss: 0.730109\n",
      "Epoch 29/100 - Train Loss: 1.050659 - Val Loss: 0.730044\n",
      "Epoch 30/100 - Train Loss: 1.049758 - Val Loss: 0.727709\n",
      "Epoch 31/100 - Train Loss: 1.049533 - Val Loss: 0.730994\n",
      "Epoch 32/100 - Train Loss: 1.049454 - Val Loss: 0.726383\n",
      "Epoch 33/100 - Train Loss: 1.047907 - Val Loss: 0.729800\n",
      "Epoch 34/100 - Train Loss: 1.048398 - Val Loss: 0.728269\n",
      "Epoch 35/100 - Train Loss: 1.047495 - Val Loss: 0.724529\n",
      "Epoch 36/100 - Train Loss: 1.045945 - Val Loss: 0.728966\n",
      "Epoch 37/100 - Train Loss: 1.045973 - Val Loss: 0.721398\n",
      "Epoch 38/100 - Train Loss: 1.045714 - Val Loss: 0.723796\n",
      "Epoch 39/100 - Train Loss: 1.044667 - Val Loss: 0.723062\n",
      "Epoch 40/100 - Train Loss: 1.044914 - Val Loss: 0.725825\n",
      "Epoch 41/100 - Train Loss: 1.045087 - Val Loss: 0.723314\n",
      "Epoch 42/100 - Train Loss: 1.044071 - Val Loss: 0.726220\n",
      "Epoch 43/100 - Train Loss: 1.044611 - Val Loss: 0.721214\n",
      "Epoch 44/100 - Train Loss: 1.044186 - Val Loss: 0.726165\n",
      "Epoch 45/100 - Train Loss: 1.043069 - Val Loss: 0.718328\n",
      "Epoch 46/100 - Train Loss: 1.043563 - Val Loss: 0.722865\n",
      "Epoch 47/100 - Train Loss: 1.043461 - Val Loss: 0.721614\n",
      "Epoch 48/100 - Train Loss: 1.042349 - Val Loss: 0.722526\n",
      "Epoch 49/100 - Train Loss: 1.042129 - Val Loss: 0.719118\n",
      "Epoch 50/100 - Train Loss: 1.042597 - Val Loss: 0.717628\n",
      "Epoch 51/100 - Train Loss: 1.042583 - Val Loss: 0.721270\n",
      "Epoch 52/100 - Train Loss: 1.042325 - Val Loss: 0.717612\n",
      "Epoch 53/100 - Train Loss: 1.042335 - Val Loss: 0.726598\n",
      "Epoch 54/100 - Train Loss: 1.041369 - Val Loss: 0.720257\n",
      "Epoch 55/100 - Train Loss: 1.041141 - Val Loss: 0.724936\n",
      "Epoch 56/100 - Train Loss: 1.040754 - Val Loss: 0.719662\n",
      "Epoch 57/100 - Train Loss: 1.040858 - Val Loss: 0.723155\n",
      "Epoch 58/100 - Train Loss: 1.040554 - Val Loss: 0.716114\n",
      "Epoch 59/100 - Train Loss: 1.041062 - Val Loss: 0.721892\n",
      "Epoch 60/100 - Train Loss: 1.040081 - Val Loss: 0.719769\n",
      "Epoch 61/100 - Train Loss: 1.040220 - Val Loss: 0.723220\n",
      "Epoch 62/100 - Train Loss: 1.040828 - Val Loss: 0.721618\n",
      "Epoch 63/100 - Train Loss: 1.039609 - Val Loss: 0.720649\n",
      "Epoch 64/100 - Train Loss: 1.039716 - Val Loss: 0.719595\n",
      "Epoch 65/100 - Train Loss: 1.040910 - Val Loss: 0.717331\n",
      "Epoch 66/100 - Train Loss: 1.039653 - Val Loss: 0.721906\n",
      "Epoch 67/100 - Train Loss: 1.039512 - Val Loss: 0.717309\n",
      "Epoch 68/100 - Train Loss: 1.041005 - Val Loss: 0.719938\n",
      "Epoch 69/100 - Train Loss: 1.040451 - Val Loss: 0.723024\n",
      "Epoch 70/100 - Train Loss: 1.039862 - Val Loss: 0.720717\n",
      "Epoch 71/100 - Train Loss: 1.039667 - Val Loss: 0.722826\n",
      "Epoch 72/100 - Train Loss: 1.038914 - Val Loss: 0.717158\n",
      "Epoch 73/100 - Train Loss: 1.040526 - Val Loss: 0.715895\n",
      "Epoch 74/100 - Train Loss: 1.038642 - Val Loss: 0.717050\n",
      "Epoch 75/100 - Train Loss: 1.040466 - Val Loss: 0.726730\n",
      "Epoch 76/100 - Train Loss: 1.041037 - Val Loss: 0.726530\n",
      "Epoch 77/100 - Train Loss: 1.039121 - Val Loss: 0.720492\n",
      "Epoch 78/100 - Train Loss: 1.039170 - Val Loss: 0.719887\n",
      "Epoch 79/100 - Train Loss: 1.039155 - Val Loss: 0.724322\n",
      "Epoch 80/100 - Train Loss: 1.039062 - Val Loss: 0.716117\n",
      "Epoch 81/100 - Train Loss: 1.039256 - Val Loss: 0.721088\n",
      "Epoch 82/100 - Train Loss: 1.038611 - Val Loss: 0.722172\n",
      "Epoch 83/100 - Train Loss: 1.039421 - Val Loss: 0.720276\n",
      "Epoch 84/100 - Train Loss: 1.039329 - Val Loss: 0.715869\n",
      "Epoch 85/100 - Train Loss: 1.039046 - Val Loss: 0.720899\n",
      "Epoch 86/100 - Train Loss: 1.038936 - Val Loss: 0.721983\n",
      "Epoch 87/100 - Train Loss: 1.038978 - Val Loss: 0.717441\n",
      "Epoch 88/100 - Train Loss: 1.038687 - Val Loss: 0.717360\n",
      "Epoch 89/100 - Train Loss: 1.039863 - Val Loss: 0.716661\n",
      "Epoch 90/100 - Train Loss: 1.038882 - Val Loss: 0.715342\n",
      "Epoch 91/100 - Train Loss: 1.040057 - Val Loss: 0.723316\n",
      "Epoch 92/100 - Train Loss: 1.038881 - Val Loss: 0.721536\n",
      "Epoch 93/100 - Train Loss: 1.038439 - Val Loss: 0.719887\n",
      "Epoch 94/100 - Train Loss: 1.038007 - Val Loss: 0.723071\n",
      "Epoch 95/100 - Train Loss: 1.038543 - Val Loss: 0.715579\n",
      "Epoch 96/100 - Train Loss: 1.038869 - Val Loss: 0.717645\n",
      "Epoch 97/100 - Train Loss: 1.038298 - Val Loss: 0.716154\n",
      "Epoch 98/100 - Train Loss: 1.039353 - Val Loss: 0.724452\n",
      "Epoch 99/100 - Train Loss: 1.038533 - Val Loss: 0.717329\n",
      "Epoch 100/100 - Train Loss: 1.038582 - Val Loss: 0.717479\n"
     ]
    },
    {
     "data": {
      "image/png": "[encoded data removed]",
      "text/plain": [
       "<Figure size 800x500 with 1 Axes>"
      ]
     },
     "metadata": {},
     "output_type": "display_data"
    }
   ],
   "source": [
    "model.to(device)\n",
    "\n",
    "# 定义损失函数（均方误差）和优化器（Adam）\n",
    "criterion = nn.MSELoss()\n",
    "optimizer = torch.optim.Adam(model.parameters(), lr=0.0005)\n",
    "\n",
    "num_epochs = 100  # 根据实际情况调整\n",
    "\n",
    "train_losses = []\n",
    "val_losses = []\n",
    "\n",
    "for epoch in range(num_epochs):\n",
    "    model.train()\n",
    "    epoch_train_loss = 0.0\n",
    "    for batch_X, batch_Y in train_loader:\n",
    "        batch_X = batch_X.to(device)\n",
    "        batch_Y = batch_Y.to(device)\n",
    "        optimizer.zero_grad()\n",
    "        # 前向传播\n",
    "        outputs = model(batch_X)\n",
    "        loss = criterion(outputs, batch_Y)\n",
    "        # 反向传播与优化\n",
    "        loss.backward()\n",
    "        optimizer.step()\n",
    "        epoch_train_loss += loss.item() * batch_X.size(0)\n",
    "    \n",
    "    epoch_train_loss /= len(train_dataset)\n",
    "    train_losses.append(epoch_train_loss)\n",
    "    \n",
    "    # 验证阶段\n",
    "    model.eval()\n",
    "    epoch_val_loss = 0.0\n",
    "    with torch.no_grad():\n",
    "        for batch_X, batch_Y in val_loader:\n",
    "            batch_X = batch_X.to(device)\n",
    "            batch_Y = batch_Y.to(device)\n",
    "            outputs = model(batch_X)\n",
    "            loss = criterion(outputs, batch_Y)\n",
    "            epoch_val_loss += loss.item() * batch_X.size(0)\n",
    "    epoch_val_loss /= len(val_dataset)\n",
    "    val_losses.append(epoch_val_loss)\n",
    "    \n",
    "    print(f\"Epoch {epoch+1}/{num_epochs} - Train Loss: {epoch_train_loss:.6f} - Val Loss: {epoch_val_loss:.6f}\")\n",
    "\n",
    "# 可视化训练过程\n",
    "plt.figure(figsize=(8, 5))\n",
    "plt.plot(train_losses, label='Train Loss', marker='o')\n",
    "plt.plot(val_losses, label='Validation Loss', marker='s')\n",
    "plt.xlabel('Epoch')\n",
    "plt.ylabel('MSE Loss')\n",
    "plt.title('Train Loss')\n",
    "plt.legend()\n",
    "plt.grid(True)\n",
    "plt.show()"
   ]
  },
  {
   "cell_type": "markdown",
   "metadata": {},
   "source": [
    "# 预测新数据"
   ]
  },
  {
   "cell_type": "markdown",
   "metadata": {},
   "source": [
    "读取2025年新数据"
   ]
  },
  {
   "cell_type": "code",
   "execution_count": 15,
   "metadata": {},
   "outputs": [],
   "source": [
    "elec_price_df_2025 = pd.read_csv(data_path_2025 + \"202501电价数据_24点_cleaned.csv\", sep=\"\\t\")\n",
    "elec_out_price_df_2025 = pd.read_csv(data_path_2025 + \"202501东送计划_96点_cleaned.csv\", sep=\"\\t\")\n",
    "non_martket_elec_gen_df_2025 = pd.read_csv(data_path_2025 + \"202501非市场化出力_96点_cleaned.csv\", sep=\"\\t\")\n",
    "ele_load_df_2025 = pd.read_csv(data_path_2025 + \"202501负荷数据_96点_cleaned.csv\", sep=\"\\t\")\n",
    "new_energy_elec_gen_df_2025 = pd.read_csv(data_path_2025 + \"202501新能源处理_96点_cleaned.csv\", sep=\"\\t\")\n",
    "\n",
    "df_15_2025 = [elec_out_price_df_2025, non_martket_elec_gen_df_2025, ele_load_df_2025, new_energy_elec_gen_df_2025]\n",
    "\n",
    "for i in range(len(df_15_2025)):\n",
    "    df = df_15_2025[i]\n",
    "    df = df.sort_values('datetime')\n",
    "    df['datetime'] = pd.to_datetime(df['datetime'])\n",
    "    df.set_index('datetime', inplace=True)\n",
    "    df = df.resample('H', closed='right', label='right').sum()\n",
    "    df_15_2025[i] = df\n",
    "\n",
    "elec_price_df_2025['datetime'] = pd.to_datetime(elec_price_df_2025['datetime'])\n",
    "elec_price_df_2025.set_index('datetime', inplace=True)\n",
    "\n",
    "merged_df_2025 = pd.concat([elec_price_df_2025] + df_15_2025, axis=1)"
   ]
  },
  {
   "cell_type": "markdown",
   "metadata": {},
   "source": [
    "数据预处理"
   ]
  },
  {
   "cell_type": "code",
   "execution_count": 16,
   "metadata": {},
   "outputs": [
    {
     "name": "stdout",
     "output_type": "stream",
     "text": [
      "Index(['全网统一出清电价', '呼包东统一出清电价', '呼包西统一出清电价', '东送计划实测', '非市场出力计划实测', '统调负荷实测',\n",
      "       '新能源出力实测', '风电出力实测', '光伏出力实测', 't2m_1501', 'ws10m_1501', 'ssrd_1501',\n",
      "       'tp_1501', 'rh_1501', 't2m_1502', 'ws10m_1502', 'ssrd_1502', 'tp_1502',\n",
      "       'rh_1502', 'price_bidding_space'],\n",
      "      dtype='object')\n",
      "Initial missing timestamps: 0\n",
      "No need to deal missing data.\n"
     ]
    }
   ],
   "source": [
    "# 天气\n",
    "weather_data_2025_all = pd.read_csv(data_path_2025 + '内蒙2025天气.csv', sep=',')\n",
    "\n",
    "''' 天气参数\n",
    "id: 数据id\n",
    "region_code: 行政区号\n",
    "region_name: 行政区名\n",
    "t2m: 2米温度\n",
    "ws10m: 10米风速\n",
    "ssrd: 向下表面太阳辐射（辐照）\n",
    "tp: 总降水量(precipitation)\n",
    "rh: 相对湿度\n",
    "datetime: 时间戳\n",
    "lng: 经度\n",
    "lat: 纬度\n",
    "'''\n",
    "# 设置列名\n",
    "weather_data_2025_all.columns = ['id', 'region_code', 'region_name', 't2m', 'ws10m', 'ssrd', 'tp', 'rh', 'datetime', 'lng', 'lat']\n",
    "weather_data_2025 = weather_data_2025_all.drop(columns=['id', 'lng', 'lat', 'region_name'])\n",
    "weather_data_2025['datetime'] = pd.to_datetime(weather_data_2025['datetime'], dayfirst=True)\n",
    "weather_data_2025.set_index('datetime', inplace=True)\n",
    "weather_data_2025_filtered = weather_data_2025[weather_data_2025['region_code'].isin([1501, 1502])]\n",
    "\n",
    "weather_1501 = weather_data_2025_filtered[weather_data_2025_filtered['region_code'] == 1501].copy()\n",
    "weather_1502 = weather_data_2025_filtered[weather_data_2025_filtered['region_code'] == 1502].copy()\n",
    "weather_1501.drop(columns=['region_code'], inplace=True)\n",
    "weather_1502.drop(columns=['region_code'], inplace=True)\n",
    "weather_1501.rename(columns={\n",
    "    't2m': 't2m_1501',\n",
    "    'ws10m': 'ws10m_1501',\n",
    "    'ssrd': 'ssrd_1501',\n",
    "    'tp': 'tp_1501',\n",
    "    'rh': 'rh_1501'\n",
    "}, inplace=True)\n",
    "weather_1502.rename(columns={\n",
    "    't2m': 't2m_1502',\n",
    "    'ws10m': 'ws10m_1502',\n",
    "    'ssrd': 'ssrd_1502',\n",
    "    'tp': 'tp_1502',\n",
    "    'rh': 'rh_1502'\n",
    "}, inplace=True)\n",
    "\n",
    "weather_1501 = weather_1501[~weather_1501.index.duplicated(keep='first')]\n",
    "weather_1502 = weather_1502[~weather_1502.index.duplicated(keep='first')]\n",
    "\n",
    "merged_weather_2025 = pd.merge(weather_1501, weather_1502, left_index=True, right_index=True, how='outer')\n",
    "\n",
    "# 合并数据+丢弃预测数据\n",
    "merged_df_with_weather = merged_df_2025.merge(merged_weather_2025, left_index=True, right_index=True, how='outer')\n",
    "merged_df_with_weather['price_bidding_space'] = merged_df_with_weather['统调负荷实测'] + merged_df_with_weather['东送计划实测'] - merged_df_with_weather['新能源出力实测'] - merged_df_with_weather['非市场出力计划实测']\n",
    "merged_df_filtered_2025 = merged_df_with_weather.drop(columns=['日前预出清电能价格', '东送计划预测', '非市场出力计划', '统调负荷预测', '新能源出力预测', '风电出力预测', '光伏出力预测'])\n",
    "\n",
    "merged_df_filtered_2025 = merged_df_filtered_2025.dropna()\n",
    "\n",
    "print(merged_df_filtered_2025.columns)\n",
    "\n",
    "# 检查并处理缺失数据\n",
    "df_cleaned_2025 = deal_missing_data(merged_df_filtered_2025)"
   ]
  },
  {
   "cell_type": "code",
   "execution_count": 17,
   "metadata": {},
   "outputs": [
    {
     "name": "stdout",
     "output_type": "stream",
     "text": [
      "Index(['呼包东统一出清电价', '呼包西统一出清电价', '风电出力实测', 'ws10m_1501', 'ws10m_1502',\n",
      "       'price_bidding_space'],\n",
      "      dtype='object')\n",
      "                     呼包东统一出清电价  呼包西统一出清电价    风电出力实测  ws10m_1501  ws10m_1502  \\\n",
      "datetime                                                                      \n",
      "2025-01-01 01:00:00    779.739    573.111  28727.66      1.5147      2.1344   \n",
      "\n",
      "                     price_bidding_space  \n",
      "datetime                                  \n",
      "2025-01-01 01:00:00             128512.6  \n",
      "            呼包东统一出清电价  呼包西统一出清电价   风电出力实测  ws10m_1501  ws10m_1502  \\\n",
      "datetime                                                            \n",
      "2025-02-01      320.0      320.0  48191.2      0.7962      0.6113   \n",
      "\n",
      "            price_bidding_space  \n",
      "datetime                         \n",
      "2025-02-01             88768.75  \n"
     ]
    }
   ],
   "source": [
    "# 只保留竞价空间和风相关的特征\n",
    "tmp_df = df_cleaned_2025.copy()\n",
    "\n",
    "tmp_df.drop(\n",
    "    columns=\n",
    "    ['全网统一出清电价', '东送计划实测', '非市场出力计划实测', '统调负荷实测', \n",
    "     '新能源出力实测', '光伏出力实测', 't2m_1501', 'ssrd_1501', 'tp_1501', 'rh_1501', \n",
    "     't2m_1502', 'ssrd_1502', 'tp_1502', 'rh_1502'],\n",
    "     inplace=True\n",
    "     )\n",
    "\n",
    "df_cleaned_2025 = tmp_df.copy()\n",
    "\n",
    "print(df_cleaned_2025.columns)\n",
    "print(df_cleaned_2025.head(1))\n",
    "print(df_cleaned_2025.tail(1))"
   ]
  },
  {
   "cell_type": "code",
   "execution_count": 18,
   "metadata": {},
   "outputs": [
    {
     "name": "stdout",
     "output_type": "stream",
     "text": [
      "Index(['east_price', 'west_price', 'wind_power_output_load', 'ws10m_1501',\n",
      "       'ws10m_1502', 'price_bidding_space'],\n",
      "      dtype='object')\n",
      "total_length: 744, num_features: 6, min_length: 72\n"
     ]
    }
   ],
   "source": [
    "# 重命名列名\n",
    "df_cleaned_2025.rename(columns={\n",
    "    '全网统一出清电价': 'unified_price', \n",
    "    '呼包东统一出清电价': 'east_price',\n",
    "    '呼包西统一出清电价': 'west_price',\n",
    "    '东送计划实测': 'east_trans_load', \n",
    "    '非市场出力计划实测': 'non_market_output_load',\n",
    "    '统调负荷实测': 'unified_dispatch_load',\n",
    "    '新能源出力实测': 'new_energy_output_load',\n",
    "    '风电出力实测': 'wind_power_output_load',\n",
    "    '光伏出力实测': 'solar_power_output_load'\n",
    "}, inplace=True)\n",
    "\n",
    "print(df_cleaned_2025.columns)\n",
    "\n",
    "# 使用已有的标准化器进行数据标准化\n",
    "normalized_data_2025 = df_cleaned_2025.copy()\n",
    "for col in columns_to_scale:\n",
    "    scaler = scalers[col]\n",
    "    normalized_data_2025[col] = scaler.transform(df_cleaned_2025[[col]])\n",
    "\n",
    "# 使用已有的 create_sliding_windows 函数创建测试数据\n",
    "X_test, Y_test = create_sliding_windows(normalized_data_2025, input_length, output_length, target_indices)"
   ]
  },
  {
   "cell_type": "markdown",
   "metadata": {},
   "source": [
    "预测"
   ]
  },
  {
   "cell_type": "code",
   "execution_count": 19,
   "metadata": {},
   "outputs": [],
   "source": [
    "model.to(device)\n",
    "model.eval()  # set model to evaluation mode\n",
    "with torch.no_grad():\n",
    "    X_test_tensor = torch.tensor(X_test, dtype=torch.float32).to(device)\n",
    "    Y_pred = model(X_test_tensor)  # predictions in normalized scale\n",
    "    Y_pred = Y_pred.cpu().numpy()  # convert predictions to numpy array for post-processing"
   ]
  },
  {
   "cell_type": "code",
   "execution_count": 29,
   "metadata": {},
   "outputs": [
    {
     "data": {
      "image/png": "[encoded data removed]",
      "text/plain": [
       "<Figure size 1500x1000 with 2 Axes>"
      ]
     },
     "metadata": {},
     "output_type": "display_data"
    },
    {
     "name": "stdout",
     "output_type": "stream",
     "text": [
      "\n",
      "评估指标 (原始单位：元/MWh):\n",
      "东区 - MSE: 73828.08, MAE: 184.55\n",
      "西区 - MSE: 68465.97, MAE: 179.61\n",
      "\n",
      "相对误差:\n",
      "东区 - MAPE: 123085579.71%\n",
      "西区 - MAPE: 10509517.02%\n"
     ]
    }
   ],
   "source": [
    "def process_overlapping_predictions(Y_pred, Y_test, output_length, scalers, target_columns):\n",
    "    n_samples = Y_pred.shape[0]\n",
    "    n_features = Y_pred.shape[2]\n",
    "    \n",
    "    # 创建累加器和计数器\n",
    "    total_length = n_samples + output_length - 1\n",
    "    predictions_sum = np.zeros((total_length, n_features))\n",
    "    predictions_count = np.zeros((total_length, n_features))\n",
    "    true_values = np.zeros((total_length, n_features))\n",
    "    \n",
    "    for i in range(n_samples):\n",
    "        for j in range(output_length):\n",
    "            current_idx = i + j\n",
    "            if current_idx < total_length:\n",
    "                predictions_sum[current_idx] += Y_pred[i, j]\n",
    "                predictions_count[current_idx] += 1\n",
    "                true_values[current_idx] = Y_test[i, j]\n",
    "    \n",
    "    # 计算平均值并进行反标准化\n",
    "    averaged_predictions = np.where(predictions_count > 0, \n",
    "                                  predictions_sum / predictions_count, \n",
    "                                  0)\n",
    "    \n",
    "    # 反标准化过程保持不变\n",
    "    averaged_predictions_orig = np.zeros_like(averaged_predictions)\n",
    "    true_values_orig = np.zeros_like(true_values)\n",
    "    \n",
    "    for i, col in enumerate(target_columns):\n",
    "        scaler = scalers[col]\n",
    "        averaged_predictions_orig[:, i] = scaler.inverse_transform(\n",
    "            averaged_predictions[:, i].reshape(-1, 1)).ravel()\n",
    "        true_values_orig[:, i] = scaler.inverse_transform(\n",
    "            true_values[:, i].reshape(-1, 1)).ravel()\n",
    "    \n",
    "    return averaged_predictions_orig, true_values_orig\n",
    "\n",
    "# 处理重叠预测并反标准化\n",
    "averaged_predictions_orig, true_values_orig = process_overlapping_predictions(\n",
    "    Y_pred=Y_pred, \n",
    "    Y_test=Y_test, \n",
    "    output_length=output_length,\n",
    "    scalers=scalers,\n",
    "    target_columns=['east_price', 'west_price']\n",
    ")\n",
    "\n",
    "# 绘制平均后的预测结果\n",
    "def plot_averaged_predictions(true_values, averaged_predictions, start_idx=0, window_size=24):\n",
    "    plt.figure(figsize=(15, 10))\n",
    "    start_time = pd.Timestamp('2025-01-01') + pd.Timedelta(hours=start_idx+2*24)\n",
    "    time_steps = pd.date_range(start=start_time, periods=window_size, freq='H')\n",
    "    \n",
    "    plt.subplot(2, 1, 1)\n",
    "    plt.plot(time_steps, true_values[start_idx:start_idx+window_size, 0], \n",
    "             label='Actual values', marker='o', markersize=4, color='blue')\n",
    "    plt.plot(time_steps, averaged_predictions[start_idx:start_idx+window_size, 0], \n",
    "             label='Pridictions', marker='x', markersize=4, color='red')\n",
    "    plt.title(f'East Price - {start_time.strftime(\"%Y-%m-%d\")}', fontsize=14)\n",
    "    plt.xlabel('Hours', fontsize=12)\n",
    "    plt.ylabel('Price (yuan/MWh)', fontsize=12)\n",
    "    plt.legend()\n",
    "    plt.grid(True, alpha=0.3)\n",
    "    \n",
    "    # 西区电价对比图\n",
    "    plt.subplot(2, 1, 2)\n",
    "    plt.plot(time_steps, true_values[start_idx:start_idx+window_size, 1], \n",
    "             label='Actual Values', marker='o', markersize=4, color='blue')\n",
    "    plt.plot(time_steps, averaged_predictions[start_idx:start_idx+window_size, 1], \n",
    "             label='Predictions', marker='x', markersize=4, color='red')\n",
    "    plt.title(f'West Price - {start_time.strftime(\"%Y-%m-%d\")}', fontsize=14)\n",
    "    plt.xlabel('Hours', fontsize=12)\n",
    "    plt.ylabel('Price (yuan/MWh)', fontsize=12)  # 添加单位\n",
    "    plt.legend()\n",
    "    plt.grid(True, alpha=0.3)\n",
    "    \n",
    "    plt.tight_layout()\n",
    "    plt.show()\n",
    "\n",
    "# 绘制平均后的预测结果\n",
    "plot_averaged_predictions(true_values_orig, averaged_predictions_orig, start_idx=24*6)\n",
    "\n",
    "# 计算平均后的评估指标\n",
    "mse_avg = np.mean((true_values_orig - averaged_predictions_orig) ** 2, axis=0)\n",
    "mae_avg = np.mean(np.abs(true_values_orig - averaged_predictions_orig), axis=0)\n",
    "print(f\"\\n评估指标 (原始单位：元/MWh):\")\n",
    "print(f\"东区 - MSE: {mse_avg[0]:.2f}, MAE: {mae_avg[0]:.2f}\")\n",
    "print(f\"西区 - MSE: {mse_avg[1]:.2f}, MAE: {mae_avg[1]:.2f}\")\n",
    "\n",
    "# 计算相对误差\n",
    "mape_avg = np.mean(np.abs((true_values_orig - averaged_predictions_orig) / true_values_orig), axis=0) * 100\n",
    "print(f\"\\n相对误差:\")\n",
    "print(f\"东区 - MAPE: {mape_avg[0]:.2f}%\")\n",
    "print(f\"西区 - MAPE: {mape_avg[1]:.2f}%\")"
   ]
  },
  {
   "cell_type": "markdown",
   "metadata": {},
   "source": [
    "反标准化"
   ]
  },
  {
   "cell_type": "code",
   "execution_count": 21,
   "metadata": {},
   "outputs": [],
   "source": [
    "# Y_test_orig = np.zeros_like(Y_test)\n",
    "# Y_pred_orig = np.zeros_like(Y_pred)\n",
    "\n",
    "# for i, col_idx in enumerate(target_indices):\n",
    "#     scaler = scalers[target_columns[i]]\n",
    "#     Y_test_orig[:, :, i] = scaler.inverse_transform(Y_test[:, :, i])\n",
    "#     Y_pred_orig[:, :, i] = scaler.inverse_transform(Y_pred[:, :, i])"
   ]
  },
  {
   "cell_type": "markdown",
   "metadata": {},
   "source": [
    "绘制结果"
   ]
  },
  {
   "cell_type": "code",
   "execution_count": 22,
   "metadata": {},
   "outputs": [],
   "source": [
    "# # 定义绘图函数\n",
    "# def plot_predictions(Y_test, Y_pred, sample_idx=0):\n",
    "#     \"\"\"绘制预测结果与实际值的对比图\"\"\"\n",
    "#     plt.style.use('seaborn-v0_8')\n",
    "#     output_length = Y_test.shape[1]\n",
    "#     time_steps = np.arange(output_length)\n",
    "\n",
    "#     # 设置中文字体\n",
    "#     plt.rcParams['font.sans-serif'] = ['Arial Unicode MS']  # macOS 系统\n",
    "#     plt.rcParams['axes.unicode_minus'] = False\n",
    "\n",
    "#     plt.figure(figsize=(12, 8))\n",
    "    \n",
    "#     # 东区电价对比图\n",
    "#     plt.subplot(2, 1, 1)\n",
    "#     plt.plot(time_steps, Y_test[sample_idx, :, 0], label='Actual values', marker='o', color='blue')\n",
    "#     plt.plot(time_steps, Y_pred[sample_idx, :, 0], label='Predictions', marker='x', color='red')\n",
    "#     plt.title(f'东区电价预测对比', fontsize=14, fontproperties=font_prop)\n",
    "#     plt.xlabel('hours', fontsize=12)\n",
    "#     plt.ylabel('price', fontsize=12)\n",
    "#     plt.legend()\n",
    "#     plt.grid(True)\n",
    "\n",
    "#     # 西区电价对比图\n",
    "#     plt.subplot(2, 1, 2)\n",
    "#     plt.plot(time_steps, Y_test[sample_idx, :, 1], label='Actual values', marker='o', color='blue')\n",
    "#     plt.plot(time_steps, Y_pred[sample_idx, :, 1], label='Predictions', marker='x', color='red')\n",
    "#     plt.title(f'西区电价预测对比', fontsize=14, fontproperties=font_prop)\n",
    "#     plt.xlabel('hours', fontsize=12)\n",
    "#     plt.ylabel('price', fontsize=12)\n",
    "#     plt.legend()\n",
    "#     plt.grid(True)\n",
    "\n",
    "#     plt.tight_layout()\n",
    "#     plt.show()\n",
    "\n",
    "# # 绘制预测结果\n",
    "# plot_predictions(Y_test_orig, Y_pred_orig, 672)\n",
    "\n",
    "# # 计算评估指标\n",
    "# mse = np.mean((Y_test_orig - Y_pred_orig) ** 2)\n",
    "# mae = np.mean(np.abs(Y_test_orig - Y_pred_orig))\n",
    "# print(f\"\\n评估指标:\")\n",
    "# print(f\"MSE: {mse:.4f}\")\n",
    "# print(f\"MAE: {mae:.4f}\")"
   ]
  }
 ],
 "metadata": {
  "kernelspec": {
   "display_name": "DLinear",
   "language": "python",
   "name": "python3"
  },
  "language_info": {
   "codemirror_mode": {
    "name": "ipython",
    "version": 3
   },
   "file_extension": ".py",
   "mimetype": "text/x-python",
   "name": "python",
   "nbconvert_exporter": "python",
   "pygments_lexer": "ipython3",
   "version": "3.8.20"
  }
 },
 "nbformat": 4,
 "nbformat_minor": 2
}
