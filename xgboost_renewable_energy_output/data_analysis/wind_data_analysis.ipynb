{
 "cells": [
  {
   "cell_type": "code",
   "execution_count": 2,
   "metadata": {},
   "outputs": [],
   "source": [
    "import sys\n",
    "import os\n",
    "\n",
    "# 获取当前notebook的绝对路径\n",
    "notebook_dir = os.path.dirname(os.path.abspath('wind_data_analysis.ipynb'))\n",
    "# src的绝对路径\n",
    "src_path = os.path.abspath(os.path.join(notebook_dir, '../src'))\n",
    "# 加入sys.path\n",
    "if src_path not in sys.path:\n",
    "    sys.path.insert(0, src_path)\n",
    "\n",
    "import sweetviz as sv\n",
    "import pandas as pd\n",
    "import data_preprocessing as dp\n",
    "from sklearn.model_selection import train_test_split"
   ]
  },
  {
   "cell_type": "code",
   "execution_count": 3,
   "metadata": {},
   "outputs": [
    {
     "name": "stdout",
     "output_type": "stream",
     "text": [
      "No duplicate rows found\n",
      "Initial missing timestamps: 72\n",
      "Dealing with missing data.\n",
      "Initial missing dates:\n",
      " 2025-04-29    24\n",
      "2025-04-30    24\n",
      "2025-04-28    23\n",
      "2025-05-01     1\n",
      "Name: count, dtype: int64\n",
      "Missing timestamps per day:\n",
      "date\n",
      "2024-01-01    0\n",
      "2024-01-02    0\n",
      "2024-01-03    0\n",
      "2024-01-04    0\n",
      "2024-01-05    0\n",
      "             ..\n",
      "2025-05-22    0\n",
      "2025-05-23    0\n",
      "2025-05-24    0\n",
      "2025-05-25    0\n",
      "2025-05-26    0\n",
      "Length: 512, dtype: int64\n",
      "Using threshold_percent=0.05, threshold_hours=1\n",
      "\n",
      "Days to drop: 3\n",
      "Total missing timestamps: 72\n",
      "\n",
      "Missing timestamps by date:\n",
      "2025-04-28    24\n",
      "2025-04-29    24\n",
      "2025-04-30    24\n",
      "Name: count, dtype: int64\n"
     ]
    }
   ],
   "source": [
    "CITY_FOR_POWER_DATA = '阿拉善盟'\n",
    "# Ensure CITY_NAME_MAPPING_DICT is accessible from dp\n",
    "CITY_FOR_WEATHER_DATA = dp.CITY_NAME_MAPPING_DICT[CITY_FOR_POWER_DATA] \n",
    "TARGET_VARIABLE = 'wind_output'\n",
    "\n",
    "# 1. Data Loading\n",
    "weather_df = dp.get_history_weather_data_for_city(CITY_FOR_WEATHER_DATA)\n",
    "power_df = dp.get_history_wind_power_for_city(CITY_FOR_POWER_DATA) # Assumes wind\n",
    "merged_df = dp.merge_weather_and_power_df(weather_df, power_df)\n",
    "\n",
    "# 2. Data Preprocessing\n",
    "preprocessed_df = dp.preprocess_data(merged_df, CITY_FOR_POWER_DATA)\n",
    "time_wise_df = dp.set_time_wise_feature(preprocessed_df.copy())\n",
    "\n",
    "# 筛选数据\n",
    "# start_date = pd.Timestamp('2025-01-01')\n",
    "# time_wise_df = time_wise_df[time_wise_df.index >= start_date]\n",
    "\n",
    "y = time_wise_df[TARGET_VARIABLE]\n",
    "X_raw = time_wise_df.drop(columns=[TARGET_VARIABLE, 'time_idx', 'group_id'], errors='ignore')\n",
    "\n",
    "# Define and one-hot encode categorical features\n",
    "categorical_features_def = ['wind_season', 'year', 'month', 'day', 'hour']\n",
    "actual_categorical_features = [col for col in categorical_features_def if col in X_raw.columns]\n",
    "\n",
    "X_encoded = pd.get_dummies(X_raw, columns=actual_categorical_features, drop_first=True)\n",
    "X_train_columns = X_encoded.columns.tolist() \n",
    "\n",
    "# 3. Data Splitting (Train-Validation-Test)\n",
    "X_train_val, X_test, y_train_val, y_test = train_test_split(\n",
    "    X_encoded, y, test_size=0.2, random_state=42, shuffle=False\n",
    ")\n",
    "X_train, X_val, y_train, y_val = train_test_split(\n",
    "    X_train_val, y_train_val, test_size=0.25, random_state=42, shuffle=False # 0.25 * 0.8 = 0.2 of total\n",
    ")"
   ]
  },
  {
   "cell_type": "code",
   "execution_count": null,
   "metadata": {},
   "outputs": [],
   "source": [
    "# 合并特征和标签，方便分析\n",
    "train_df = X_train.copy()\n",
    "train_df['wind_output'] = y_train\n",
    "\n",
    "val_df = X_val.copy()\n",
    "val_df['wind_output'] = y_val\n",
    "\n",
    "test_df = X_test.copy()\n",
    "test_df['wind_output'] = y_test"
   ]
  },
  {
   "cell_type": "code",
   "execution_count": 6,
   "metadata": {},
   "outputs": [
    {
     "name": "stdout",
     "output_type": "stream",
     "text": [
      "布尔型列: ['wind_season_small', 'year_2025', 'month_10', 'month_11', 'month_12', 'month_2', 'month_3', 'month_4', 'month_5', 'month_6', 'month_7', 'month_8', 'month_9', 'day_10', 'day_11', 'day_12', 'day_13', 'day_14', 'day_15', 'day_16', 'day_17', 'day_18', 'day_19', 'day_2', 'day_20', 'day_21', 'day_22', 'day_23', 'day_24', 'day_25', 'day_26', 'day_27', 'day_28', 'day_29', 'day_3', 'day_30', 'day_31', 'day_4', 'day_5', 'day_6', 'day_7', 'day_8', 'day_9', 'hour_1', 'hour_10', 'hour_11', 'hour_12', 'hour_13', 'hour_14', 'hour_15', 'hour_16', 'hour_17', 'hour_18', 'hour_19', 'hour_2', 'hour_20', 'hour_21', 'hour_22', 'hour_23', 'hour_3', 'hour_4', 'hour_5', 'hour_6', 'hour_7', 'hour_8', 'hour_9']\n",
      "转换后的布尔型列: []\n"
     ]
    },
    {
     "data": {
      "application/vnd.jupyter.widget-view+json": {
       "model_id": "0ff05960fecd48089dee70db52090f21",
       "version_major": 2,
       "version_minor": 0
      },
      "text/plain": [
       "                                             |          | [  0%]   00:00 -> (? left)"
      ]
     },
     "metadata": {},
     "output_type": "display_data"
    },
    {
     "name": "stderr",
     "output_type": "stream",
     "text": [
      "/opt/anaconda3/envs/xgboost/lib/python3.9/site-packages/sweetviz/graph_associations.py:219: PerformanceWarning: DataFrame is highly fragmented.  This is usually the result of calling `frame.insert` many times, which has poor performance.  Consider joining all columns at once using pd.concat(axis=1) instead. To get a de-fragmented frame, use `newframe = frame.copy()`\n",
      "  new_dataframe[feature] = pd.Series(dtype=float)\n",
      "/opt/anaconda3/envs/xgboost/lib/python3.9/site-packages/sweetviz/graph_associations.py:219: PerformanceWarning: DataFrame is highly fragmented.  This is usually the result of calling `frame.insert` many times, which has poor performance.  Consider joining all columns at once using pd.concat(axis=1) instead. To get a de-fragmented frame, use `newframe = frame.copy()`\n",
      "  new_dataframe[feature] = pd.Series(dtype=float)\n",
      "/opt/anaconda3/envs/xgboost/lib/python3.9/site-packages/sweetviz/graph_associations.py:219: PerformanceWarning: DataFrame is highly fragmented.  This is usually the result of calling `frame.insert` many times, which has poor performance.  Consider joining all columns at once using pd.concat(axis=1) instead. To get a de-fragmented frame, use `newframe = frame.copy()`\n",
      "  new_dataframe[feature] = pd.Series(dtype=float)\n",
      "/opt/anaconda3/envs/xgboost/lib/python3.9/site-packages/sweetviz/graph_associations.py:219: PerformanceWarning: DataFrame is highly fragmented.  This is usually the result of calling `frame.insert` many times, which has poor performance.  Consider joining all columns at once using pd.concat(axis=1) instead. To get a de-fragmented frame, use `newframe = frame.copy()`\n",
      "  new_dataframe[feature] = pd.Series(dtype=float)\n"
     ]
    },
    {
     "name": "stdout",
     "output_type": "stream",
     "text": [
      "Report train_vs_val.html was generated! NOTEBOOK/COLAB USERS: the web browser MAY not pop up, regardless, the report IS saved in your notebook/colab files.\n"
     ]
    },
    {
     "data": {
      "application/vnd.jupyter.widget-view+json": {
       "model_id": "76e644cf36c54f65920ddada7300245b",
       "version_major": 2,
       "version_minor": 0
      },
      "text/plain": [
       "                                             |          | [  0%]   00:00 -> (? left)"
      ]
     },
     "metadata": {},
     "output_type": "display_data"
    },
    {
     "name": "stderr",
     "output_type": "stream",
     "text": [
      "/opt/anaconda3/envs/xgboost/lib/python3.9/site-packages/sweetviz/graph_associations.py:219: PerformanceWarning: DataFrame is highly fragmented.  This is usually the result of calling `frame.insert` many times, which has poor performance.  Consider joining all columns at once using pd.concat(axis=1) instead. To get a de-fragmented frame, use `newframe = frame.copy()`\n",
      "  new_dataframe[feature] = pd.Series(dtype=float)\n",
      "/opt/anaconda3/envs/xgboost/lib/python3.9/site-packages/sweetviz/graph_associations.py:219: PerformanceWarning: DataFrame is highly fragmented.  This is usually the result of calling `frame.insert` many times, which has poor performance.  Consider joining all columns at once using pd.concat(axis=1) instead. To get a de-fragmented frame, use `newframe = frame.copy()`\n",
      "  new_dataframe[feature] = pd.Series(dtype=float)\n",
      "/opt/anaconda3/envs/xgboost/lib/python3.9/site-packages/sweetviz/graph_associations.py:219: PerformanceWarning: DataFrame is highly fragmented.  This is usually the result of calling `frame.insert` many times, which has poor performance.  Consider joining all columns at once using pd.concat(axis=1) instead. To get a de-fragmented frame, use `newframe = frame.copy()`\n",
      "  new_dataframe[feature] = pd.Series(dtype=float)\n",
      "/opt/anaconda3/envs/xgboost/lib/python3.9/site-packages/sweetviz/graph_associations.py:219: PerformanceWarning: DataFrame is highly fragmented.  This is usually the result of calling `frame.insert` many times, which has poor performance.  Consider joining all columns at once using pd.concat(axis=1) instead. To get a de-fragmented frame, use `newframe = frame.copy()`\n",
      "  new_dataframe[feature] = pd.Series(dtype=float)\n"
     ]
    },
    {
     "name": "stdout",
     "output_type": "stream",
     "text": [
      "Report train_vs_test.html was generated! NOTEBOOK/COLAB USERS: the web browser MAY not pop up, regardless, the report IS saved in your notebook/colab files.\n"
     ]
    },
    {
     "data": {
      "application/vnd.jupyter.widget-view+json": {
       "model_id": "507b8734adb34e4dbc85bfd8420715eb",
       "version_major": 2,
       "version_minor": 0
      },
      "text/plain": [
       "                                             |          | [  0%]   00:00 -> (? left)"
      ]
     },
     "metadata": {},
     "output_type": "display_data"
    },
    {
     "name": "stderr",
     "output_type": "stream",
     "text": [
      "/opt/anaconda3/envs/xgboost/lib/python3.9/site-packages/sweetviz/graph_associations.py:219: PerformanceWarning: DataFrame is highly fragmented.  This is usually the result of calling `frame.insert` many times, which has poor performance.  Consider joining all columns at once using pd.concat(axis=1) instead. To get a de-fragmented frame, use `newframe = frame.copy()`\n",
      "  new_dataframe[feature] = pd.Series(dtype=float)\n",
      "/opt/anaconda3/envs/xgboost/lib/python3.9/site-packages/sweetviz/graph_associations.py:219: PerformanceWarning: DataFrame is highly fragmented.  This is usually the result of calling `frame.insert` many times, which has poor performance.  Consider joining all columns at once using pd.concat(axis=1) instead. To get a de-fragmented frame, use `newframe = frame.copy()`\n",
      "  new_dataframe[feature] = pd.Series(dtype=float)\n",
      "/opt/anaconda3/envs/xgboost/lib/python3.9/site-packages/sweetviz/graph_associations.py:219: PerformanceWarning: DataFrame is highly fragmented.  This is usually the result of calling `frame.insert` many times, which has poor performance.  Consider joining all columns at once using pd.concat(axis=1) instead. To get a de-fragmented frame, use `newframe = frame.copy()`\n",
      "  new_dataframe[feature] = pd.Series(dtype=float)\n",
      "/opt/anaconda3/envs/xgboost/lib/python3.9/site-packages/sweetviz/graph_associations.py:219: PerformanceWarning: DataFrame is highly fragmented.  This is usually the result of calling `frame.insert` many times, which has poor performance.  Consider joining all columns at once using pd.concat(axis=1) instead. To get a de-fragmented frame, use `newframe = frame.copy()`\n",
      "  new_dataframe[feature] = pd.Series(dtype=float)\n"
     ]
    },
    {
     "name": "stdout",
     "output_type": "stream",
     "text": [
      "Report val_vs_test.html was generated! NOTEBOOK/COLAB USERS: the web browser MAY not pop up, regardless, the report IS saved in your notebook/colab files.\n"
     ]
    }
   ],
   "source": [
    "# 转换所有布尔型列为整数，解决 Sweetviz 的 'cannot use a single bool to index into setitem' 错误\n",
    "def convert_bool_columns(df):\n",
    "    df_copy = df.copy()\n",
    "    for col in df_copy.select_dtypes(include=['bool']).columns:\n",
    "        df_copy[col] = df_copy[col].astype(int)\n",
    "    return df_copy\n",
    "\n",
    "# 检查并打印布尔型列\n",
    "bool_cols_train = train_df.select_dtypes(include=['bool']).columns.tolist()\n",
    "print(f\"布尔型列: {bool_cols_train}\")\n",
    "\n",
    "# 应用到所有数据框\n",
    "train_df_fixed = convert_bool_columns(train_df)\n",
    "val_df_fixed = convert_bool_columns(val_df)\n",
    "test_df_fixed = convert_bool_columns(test_df)\n",
    "\n",
    "# 检查是否还有布尔型列\n",
    "bool_cols_after = train_df_fixed.select_dtypes(include=['bool']).columns.tolist()\n",
    "print(f\"转换后的布尔型列: {bool_cols_after}\")\n",
    "\n",
    "# 使用修复后的数据框进行 Sweetviz 分析\n",
    "import sweetviz as sv\n",
    "\n",
    "# 训练集 vs 验证集\n",
    "report_train_val = sv.compare([train_df_fixed, \"Train\"], [val_df_fixed, \"Validation\"])\n",
    "report_train_val.show_html(\"train_vs_val.html\")\n",
    "\n",
    "# 训练集 vs 测试集\n",
    "report_train_test = sv.compare([train_df_fixed, \"Train\"], [test_df_fixed, \"Test\"])\n",
    "report_train_test.show_html(\"train_vs_test.html\")\n",
    "\n",
    "# 验证集 vs 测试集\n",
    "report_val_test = sv.compare([val_df_fixed, \"Validation\"], [test_df_fixed, \"Test\"])\n",
    "report_val_test.show_html(\"val_vs_test.html\")"
   ]
  },
  {
   "cell_type": "code",
   "execution_count": 7,
   "metadata": {},
   "outputs": [
    {
     "name": "stderr",
     "output_type": "stream",
     "text": [
      "/Users/fredzhang/Documents/git_repo/VPP/xgboost_renewable_energy_output/src/data_preprocessing.py:184: FutureWarning: 'H' is deprecated and will be removed in a future version, please use 'h' instead.\n",
      "  output_df['solar_output'] = output_df['solar_output'].resample('H', closed='right', label='right').mean()\n"
     ]
    },
    {
     "data": {
      "text/html": [
       "<div>\n",
       "<style scoped>\n",
       "    .dataframe tbody tr th:only-of-type {\n",
       "        vertical-align: middle;\n",
       "    }\n",
       "\n",
       "    .dataframe tbody tr th {\n",
       "        vertical-align: top;\n",
       "    }\n",
       "\n",
       "    .dataframe thead th {\n",
       "        text-align: right;\n",
       "    }\n",
       "</style>\n",
       "<table border=\"1\" class=\"dataframe\">\n",
       "  <thead>\n",
       "    <tr style=\"text-align: right;\">\n",
       "      <th></th>\n",
       "      <th>solar_output</th>\n",
       "    </tr>\n",
       "    <tr>\n",
       "      <th>datetime</th>\n",
       "      <th></th>\n",
       "    </tr>\n",
       "  </thead>\n",
       "  <tbody>\n",
       "    <tr>\n",
       "      <th>2023-01-01 01:00:00</th>\n",
       "      <td>0.0</td>\n",
       "    </tr>\n",
       "    <tr>\n",
       "      <th>2023-01-01 02:00:00</th>\n",
       "      <td>0.0</td>\n",
       "    </tr>\n",
       "    <tr>\n",
       "      <th>2023-01-01 03:00:00</th>\n",
       "      <td>0.0</td>\n",
       "    </tr>\n",
       "    <tr>\n",
       "      <th>2023-01-01 04:00:00</th>\n",
       "      <td>0.0</td>\n",
       "    </tr>\n",
       "    <tr>\n",
       "      <th>2023-01-01 05:00:00</th>\n",
       "      <td>0.0</td>\n",
       "    </tr>\n",
       "  </tbody>\n",
       "</table>\n",
       "</div>"
      ],
      "text/plain": [
       "                     solar_output\n",
       "datetime                         \n",
       "2023-01-01 01:00:00           0.0\n",
       "2023-01-01 02:00:00           0.0\n",
       "2023-01-01 03:00:00           0.0\n",
       "2023-01-01 04:00:00           0.0\n",
       "2023-01-01 05:00:00           0.0"
      ]
     },
     "execution_count": 7,
     "metadata": {},
     "output_type": "execute_result"
    }
   ],
   "source": [
    "solar_power_df = dp.get_history_solar_power_for_city(CITY_FOR_POWER_DATA) # Assumes wind\n"
   ]
  }
 ],
 "metadata": {
  "kernelspec": {
   "display_name": "data_analysis",
   "language": "python",
   "name": "python3"
  },
  "language_info": {
   "codemirror_mode": {
    "name": "ipython",
    "version": 3
   },
   "file_extension": ".py",
   "mimetype": "text/x-python",
   "name": "python",
   "nbconvert_exporter": "python",
   "pygments_lexer": "ipython3",
   "version": "3.9.21"
  }
 },
 "nbformat": 4,
 "nbformat_minor": 2
}
